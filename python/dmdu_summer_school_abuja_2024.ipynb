{
 "cells": [
  {
   "cell_type": "markdown",
   "metadata": {
    "id": "Hpci5_R-9Pn_"
   },
   "source": [
    "# Scalable Modeling for DMDU\n",
    "\n",
    "Decision Making Under Deep Uncertainty (DMDU) often leverages the use of complex, high-runtime models. These models can include optimization, equilibrium, agent-based, dynamical, or some combination thereof. Furthermore, the full space of scenarios that we seek to explore to quantify this uncertinty and ensure robustness is often times large, reaching hundreds of thousands, millions, or more scenarios.\n",
    "\n",
    "How do we actually do this in practice?\n",
    "\n",
    "\n",
    "##  Let's work through an example\n",
    "\n",
    "As an example, we'll use an imaginary river basin--the Rio Imaginario--that is planning for resource availability over a 30-year time horizon. The population is growing, and demand for crops produced in the basin are expected to grow, but it's unclear how much. Key uncertainties include climate, which affects precipitation, streamflow,snowfall, and temperature; and water demand for both residential and agricultural users.  \n",
    "\n",
    "Note that this problem is a simplification intended to illustrate a feasible approach: in reality, the model shown here could be run easily on a local computer.\n",
    "\n",
    "\n"
   ]
  },
  {
   "cell_type": "code",
   "execution_count": 64,
   "metadata": {
    "colab": {
     "base_uri": "https://localhost:8080/"
    },
    "id": "qpO1Ms4d9S4o",
    "outputId": "7f060481-224c-43a0-9705-a4402f31ee7b"
   },
   "outputs": [],
   "source": [
    "# pull the repository if on collab\n",
    "# !git clone https://github.com/jcsyme/rio_imaginario.git # HTTP (if on collab)\n",
    "# !git clone git@github.com:jcsyme/rio_imaginario.git # SSH (otherwise)\n",
    "# next, let's install some dependencies that we'll need\n",
    "# !pip install ipywidgets\n",
    "# !pip install pyDOE2\n"
   ]
  },
  {
   "cell_type": "code",
   "execution_count": 1,
   "metadata": {
    "id": "_529efKh9XlW",
    "tags": []
   },
   "outputs": [],
   "source": [
    "# import libraries\n",
    "import warnings                    # we're going to turn off warnings for this notebook\n",
    "warnings.filterwarnings(\"ignore\")\n",
    "\n",
    "import importlib                   # you can use this to reload modules if you `import MODULE as SHORTCUT`\n",
    "import ipywidgets as wdgs          # we'll use this for some exploration of data\n",
    "import itertools                   # lets us do outer product\n",
    "import math                        # some math tools\n",
    "import matplotlib.pyplot as plt    # plotting\n",
    "import multiprocessing as mp       # parallelization\n",
    "import numpy as np                 # may be the most ubiquitous python library--an array of numerical array tools\n",
    "import os, os.path                 # directories and paths\n",
    "import pandas as pd                # may be the second-most ubiquitous python library--data frames and manipulation\n",
    "import scipy.optimize as sco       # optimization suite; good for small problems\n",
    "import sys                         # we'll use this for some path setting\n",
    "import time                        # a package for timing\n",
    "from typing import *               # decorators for function specification\n"
   ]
  },
  {
   "cell_type": "code",
   "execution_count": 2,
   "metadata": {
    "colab": {
     "base_uri": "https://localhost:8080/"
    },
    "id": "tAZh9Vje9mqR",
    "outputId": "b646097c-35a2-40e4-de45-235b5754db1b"
   },
   "outputs": [],
   "source": [
    "# next, let's import from the git we just cloned--let's add the python directory to the path so that python can find the models\n",
    "\n",
    "# dir_py = os.path.join(\"/\", \"content\", \"rio_imaginario\", \"python\") use if running on collab\n",
    "# dir_py = PATHTOYOURPYHERE # use this if running locally outside of git\n",
    "# if dir_py not in sys.path:\n",
    "#     sys.path.append(dir_py)\n",
    "\n",
    "import data_functions as dat\n",
    "import ri_water_model as wm\n",
    "import run_ri_model as rrm\n",
    "import setup_analysis as sa\n",
    "import support_functions as sf"
   ]
  },
  {
   "cell_type": "markdown",
   "metadata": {
    "id": "7Sn4M08tXXuD"
   },
   "source": [
    "# Let's Start by Instantiating a Model\n",
    "\n",
    "The model is pre-packaged and ready for use in python. This, unfortunately, is rare. Real-world models are generally designed for the stakeholders' use cases, which are varied and often do not include robust exploratory modeling. There's generally some work involved in preparing or translating a model for exploratory modeling."
   ]
  },
  {
   "cell_type": "code",
   "execution_count": 3,
   "metadata": {
    "id": "9nBqnd119myN"
   },
   "outputs": [],
   "source": [
    "# instantiate the model\n",
    "model = wm.RIWaterResourcesModel()\n"
   ]
  },
  {
   "cell_type": "code",
   "execution_count": 17,
   "metadata": {
    "id": "_KKY1plpXjLt",
    "tags": []
   },
   "outputs": [
    {
     "data": {
      "text/plain": [
       "\u001b[0;31mSignature:\u001b[0m   \u001b[0mmodel\u001b[0m\u001b[0;34m(\u001b[0m\u001b[0;34m*\u001b[0m\u001b[0margs\u001b[0m\u001b[0;34m,\u001b[0m \u001b[0;34m**\u001b[0m\u001b[0mkwargs\u001b[0m\u001b[0;34m)\u001b[0m \u001b[0;34m->\u001b[0m \u001b[0mAny\u001b[0m\u001b[0;34m\u001b[0m\u001b[0;34m\u001b[0m\u001b[0m\n",
       "\u001b[0;31mType:\u001b[0m        RIWaterResourcesModel\n",
       "\u001b[0;31mString form:\u001b[0m <ri_water_model.RIWaterResourcesModel object at 0x110790ad0>\n",
       "\u001b[0;31mFile:\u001b[0m        ~/Downloads/rio_imaginario/python/ri_water_model.py\n",
       "\u001b[0;31mDocstring:\u001b[0m  \n",
       "Create a water resources model for use in projecting different systemic \n",
       "    components. \n",
       "    \n",
       "Optional Arguments\n",
       "------------------\n",
       "- dict_default_levers: dictionary of default lever parameter values. \n",
       "    Values specifie the value of the lever in 2050. Must include the \n",
       "    following keys:\n",
       "    * \"capacity_reservoir_million_m3\": 300,\n",
       "    * \"increase_ag_efficiency_rate\": 0,\n",
       "    * \"increase_mun_efficiency_rate\": 0,\n",
       "    * \"transmission_gw_ag_m3s\": np.nan,\n",
       "    * \"transmission_gw_mun_m3s\": 2.5,\n",
       "    * \"transmission_res_ag_m3s\": 10,\n",
       "    * \"transmission_res_mun_m3s\": 10,\n",
       "    * \"recylcing_proportion_mun\": 0.2,\n",
       "    * \"wastewater_treatment_capacity_m3s\": 0.5\n",
       "- dict_initial_states: dictionary of initial states for the Rio Imaginario\n",
       "    reservoir and groundwater storage. Must contain the following keys:\n",
       "    * \"reservoir_storage_million_m3\"\n",
       "    * \"groundwater_storage_million_m3\"\n",
       "- md_dict_parameters: dictionary of parameters. Must contain the following \n",
       "    keys:\n",
       "    * \"area_catchment_km2\"\n",
       "    * \"costs_unmet_demand\"\n",
       "    * \"groundwater_inflow_m3s\"\n",
       "    * \"maximum_gw_discharge_m3s\"\n",
       "    * \"maximum_reservoir_outflow_m3s\"\n",
       "    * \"proportion_gw_discharge\"\n",
       "    * \"proportion_precip_runoff\"\n",
       "    * \"proportion_precip_infiltration\"\n",
       "    * \"proportion_agricultural_water_runoff\"\n"
      ]
     },
     "metadata": {},
     "output_type": "display_data"
    }
   ],
   "source": [
    "# in jupyter (*.ipynb) notebooks, use the \"?\" to view information about functions, classes, and other objects\n",
    "?model"
   ]
  },
  {
   "cell_type": "markdown",
   "metadata": {
    "id": "nn2V50fHZsKp"
   },
   "source": [
    "# Let's Get Data\n",
    "\n",
    "Data (variables) and parameters are key to running a model. Garbage in, garbage out as the saying goes. If the data are good, a good model might be able to help information our decisions. If not, we may be better off using something else.\n",
    "\n",
    "- Model: A mathematical system of equations used to describe relationships between inputs and outputs\n",
    "- Variables: Any inputs to and outputs from the model\n",
    "- Parameters: Uncertain variables related to the structure of the model that can be adjusted to modify the structure\n",
    "\n"
   ]
  },
  {
   "cell_type": "code",
   "execution_count": 4,
   "metadata": {
    "id": "O_iJsj7k9n3R"
   },
   "outputs": [],
   "source": [
    "# read in input data using the run_ri_model.py module (can be called to run an ensemble)\n",
    "df_attr_strategy, df_climate_deltas_annual, df_model_data, df_strategies = rrm.load_data()\n",
    "\n",
    "# set some generic variables we'll use\n",
    "n = len(df_model_data)\n",
    "fields_index = [\n",
    "    sa.field_key_future,\n",
    "    sa.field_key_strategy,\n",
    "    sa.field_key_primary,\n",
    "    sa.field_year,\n",
    "    sa.field_month,\n",
    "    sa.field_time_period\n",
    "]\n",
    "\n"
   ]
  },
  {
   "cell_type": "markdown",
   "metadata": {
    "id": "NjYryE-mth17"
   },
   "source": [
    "# Let's Look Through our Input Data\n",
    "\n",
    "Inputs to the model include parameters--which, for this exercise, are stored in dictionaries in the `setup_analysis` module--and variables, which are stored in the `df_model_data` python variable."
   ]
  },
  {
   "cell_type": "code",
   "execution_count": 5,
   "metadata": {
    "id": "JiGj9rdubfrt"
   },
   "outputs": [],
   "source": [
    "def get_idp_xy(\n",
    "    df: pd.DataFrame,\n",
    "    field: str,\n",
    ") -> np.ndarray:\n",
    "    \"\"\"\n",
    "    Retrieve the x value for interactive plotting (time in years) and y value\n",
    "    \"\"\"\n",
    "    x = df[sa.field_year].to_numpy() + (df[sa.field_month].to_numpy() - 0.5)/12\n",
    "    y = df[field].to_numpy()\n",
    "    \n",
    "    out = (x, y)\n",
    "    \n",
    "    return out\n",
    "\n",
    "\n",
    "\n",
    "def interactive_df_plot(\n",
    "    df: pd.DataFrame,\n",
    "    fields_ignore: List[str],\n",
    ") -> wdgs.interactive:\n",
    "    \"\"\"\n",
    "    Build an interactive ipywidget time seris plot for df. Will ignore fields specified\n",
    "        in `fields_ignore`. \n",
    "    \"\"\"\n",
    "    \n",
    "    # let's set fields to look at in the outputs\n",
    "    flds_explore = sorted([x for x in df.columns if (x not in fields_ignore)])\n",
    "\n",
    "    # build a quick widget\n",
    "    dropdown = wdgs.Dropdown(\n",
    "        options = flds_explore,\n",
    "        value = flds_explore[0],\n",
    "        description = \"Select field to visualize\",\n",
    "    )\n",
    "    \n",
    "    # placeholder for other actions\n",
    "    df_plot = df\n",
    "\n",
    "    # function to allow interaction\n",
    "    def plot_fields(\n",
    "        field: str,\n",
    "    ) -> 'plt.plot()':\n",
    "        \"\"\"\n",
    "        Plot output fields from the model run on the df_model_data data frame\n",
    "        \"\"\"\n",
    "\n",
    "        # set the time\n",
    "        x, y = get_idp_xy(df_plot, field, )\n",
    "\n",
    "        fig, ax = plt.subplots(figsize = (10, 5))\n",
    "        ax.set_xlabel(\"Date\")\n",
    "        ax.set_ylabel(field)\n",
    "        ax.plot(x, y)\n",
    "\n",
    "        plt.show()\n",
    "\n",
    "        return None\n",
    "\n",
    "    out = wdgs.interactive(\n",
    "        plot_fields,\n",
    "        field = dropdown,\n",
    "    )\n",
    "    \n",
    "    return out"
   ]
  },
  {
   "cell_type": "code",
   "execution_count": 6,
   "metadata": {},
   "outputs": [
    {
     "data": {
      "application/vnd.jupyter.widget-view+json": {
       "model_id": "3dc611a30325458e891d882c4bd53211",
       "version_major": 2,
       "version_minor": 0
      },
      "text/plain": [
       "interactive(children=(Dropdown(description='Select field to visualize', options=('area_ag_km2', 'demand_agricu…"
      ]
     },
     "execution_count": 6,
     "metadata": {},
     "output_type": "execute_result"
    }
   ],
   "source": [
    "interactive_df_plot(\n",
    "    df_model_data,\n",
    "    fields_index,\n",
    ")\n"
   ]
  },
  {
   "cell_type": "markdown",
   "metadata": {
    "id": "JuhAZno3whHx"
   },
   "source": [
    "# Beyond Data, We Have Parameters\n",
    "\n",
    "##  Initial States are Critical to a Simulation Model's Performance\n",
    "\n",
    "Many policy models are sensitive to initial states. This includes dynamical models, simulation models, equilibrium models, agent-based models, and more. Initial states are boundary conditions used to start the model; in general, if using observational data, these should reflect empirical"
   ]
  },
  {
   "cell_type": "code",
   "execution_count": 7,
   "metadata": {
    "colab": {
     "base_uri": "https://localhost:8080/",
     "height": 207
    },
    "id": "glkUqsY4tYGJ",
    "outputId": "2fb6ea10-01ee-47c8-8aac-2cb677c49a2a"
   },
   "outputs": [
    {
     "data": {
      "text/plain": [
       "{'reservoir_storage_million_m3': 150, 'groundwater_storage_million_m3': 14000}"
      ]
     },
     "execution_count": 7,
     "metadata": {},
     "output_type": "execute_result"
    }
   ],
   "source": [
    "wm.md_dict_initial_states\n"
   ]
  },
  {
   "cell_type": "code",
   "execution_count": 8,
   "metadata": {
    "id": "IQ4jqbCttYCV"
   },
   "outputs": [
    {
     "data": {
      "text/plain": [
       "{'area_catchment_km2': 4000,\n",
       " 'costs_unmet_demand': [5, 1000, 1000],\n",
       " 'groundwater_inflow_m3s': 5,\n",
       " 'maximum_gw_discharge_m3s': 12.5,\n",
       " 'maximum_reservoir_outflow_m3s': 25,\n",
       " 'proportion_gw_discharge': 0.015,\n",
       " 'proportion_precip_runoff': 0.3,\n",
       " 'proportion_precip_infiltration': 0.7,\n",
       " 'proportion_agricultural_water_runoff': 0.5}"
      ]
     },
     "execution_count": 8,
     "metadata": {},
     "output_type": "execute_result"
    }
   ],
   "source": [
    "\n",
    "wm.md_dict_parameters\n"
   ]
  },
  {
   "cell_type": "code",
   "execution_count": 9,
   "metadata": {
    "id": "L7-0xQEHtX-g"
   },
   "outputs": [
    {
     "data": {
      "text/plain": [
       "{'capacity_reservoir_million_m3': 300,\n",
       " 'increase_ag_efficiency_rate': 0,\n",
       " 'increase_mun_efficiency_rate': 0,\n",
       " 'transmission_gw_ag_m3s': nan,\n",
       " 'transmission_gw_mun_m3s': 2.5,\n",
       " 'transmission_res_ag_m3s': 10,\n",
       " 'transmission_res_mun_m3s': 10,\n",
       " 'recylcing_proportion_mun': 0.2,\n",
       " 'wastewater_treatment_capacity_m3s': 0.5}"
      ]
     },
     "execution_count": 9,
     "metadata": {},
     "output_type": "execute_result"
    }
   ],
   "source": [
    "\n",
    "wm.md_dict_default_levers"
   ]
  },
  {
   "cell_type": "markdown",
   "metadata": {
    "id": "vFpaZIy0tXw6"
   },
   "source": [
    "# We can run the model and look at outputs\n",
    "- This part of the process is critical: we need to be able to trust the model\n",
    "- **Validation** and **Calibration** are two key concepts that this plays into\n",
    "    - Calibration: The process of adjusting parameters to make model outputs reflect an agreed upon benchmark, which often is based on empirical data\n",
    "    - Validation: Process of determining whether or not the model is valid\n",
    "        - Is it reasonable?\n",
    "        - Does it behave as expected?\n",
    "        - Does it reflect state of the art knowledge of the system?\n",
    "        - Is there a good theoretical basis for the model?"
   ]
  },
  {
   "cell_type": "code",
   "execution_count": 10,
   "metadata": {
    "id": "4UYGQnBVtXRG"
   },
   "outputs": [
    {
     "name": "stdout",
     "output_type": "stream",
     "text": [
      "\n",
      "Time elapsed to model completion: 1.06 seconds\n",
      "\n"
     ]
    },
    {
     "data": {
      "text/html": [
       "<div>\n",
       "<style scoped>\n",
       "    .dataframe tbody tr th:only-of-type {\n",
       "        vertical-align: middle;\n",
       "    }\n",
       "\n",
       "    .dataframe tbody tr th {\n",
       "        vertical-align: top;\n",
       "    }\n",
       "\n",
       "    .dataframe thead th {\n",
       "        text-align: right;\n",
       "    }\n",
       "</style>\n",
       "<table border=\"1\" class=\"dataframe\">\n",
       "  <thead>\n",
       "    <tr style=\"text-align: right;\">\n",
       "      <th></th>\n",
       "      <th>year</th>\n",
       "      <th>month</th>\n",
       "      <th>x_11_m3</th>\n",
       "      <th>x_12_m3</th>\n",
       "      <th>x_21_m3</th>\n",
       "      <th>x_22_m3</th>\n",
       "      <th>d_1_m3</th>\n",
       "      <th>d_2_m3</th>\n",
       "      <th>d_3_m3</th>\n",
       "      <th>s_1_m3</th>\n",
       "      <th>...</th>\n",
       "      <th>r_m3</th>\n",
       "      <th>f_1_m3</th>\n",
       "      <th>f_2_m3</th>\n",
       "      <th>groundwater_storage_m3</th>\n",
       "      <th>reservoir_storage_m3</th>\n",
       "      <th>reservoir_release_m3</th>\n",
       "      <th>reservoir_spillage_m3</th>\n",
       "      <th>gw_discharge_m3</th>\n",
       "      <th>gw_recharge_m3</th>\n",
       "      <th>precip_runoff_m3</th>\n",
       "    </tr>\n",
       "  </thead>\n",
       "  <tbody>\n",
       "    <tr>\n",
       "      <th>499</th>\n",
       "      <td>2055</td>\n",
       "      <td>8</td>\n",
       "      <td>1.487083e+07</td>\n",
       "      <td>6696000.0</td>\n",
       "      <td>0.000000e+00</td>\n",
       "      <td>2.509246e+07</td>\n",
       "      <td>6.428389e+07</td>\n",
       "      <td>4.758413e+07</td>\n",
       "      <td>100000000.0</td>\n",
       "      <td>1.487083e+07</td>\n",
       "      <td>...</td>\n",
       "      <td>6696000.0</td>\n",
       "      <td>281250.0</td>\n",
       "      <td>1339200.0</td>\n",
       "      <td>0.0</td>\n",
       "      <td>0.000000e+00</td>\n",
       "      <td>6696000.0</td>\n",
       "      <td>0.0</td>\n",
       "      <td>0.0</td>\n",
       "      <td>8.174833e+06</td>\n",
       "      <td>8662500.0</td>\n",
       "    </tr>\n",
       "    <tr>\n",
       "      <th>500</th>\n",
       "      <td>2055</td>\n",
       "      <td>9</td>\n",
       "      <td>2.812983e+07</td>\n",
       "      <td>6480000.0</td>\n",
       "      <td>0.000000e+00</td>\n",
       "      <td>1.718324e+07</td>\n",
       "      <td>6.172126e+07</td>\n",
       "      <td>4.646567e+07</td>\n",
       "      <td>100000000.0</td>\n",
       "      <td>2.812983e+07</td>\n",
       "      <td>...</td>\n",
       "      <td>6480000.0</td>\n",
       "      <td>0.0</td>\n",
       "      <td>1296000.0</td>\n",
       "      <td>0.0</td>\n",
       "      <td>0.000000e+00</td>\n",
       "      <td>6480000.0</td>\n",
       "      <td>0.0</td>\n",
       "      <td>0.0</td>\n",
       "      <td>2.164983e+07</td>\n",
       "      <td>0.0</td>\n",
       "    </tr>\n",
       "    <tr>\n",
       "      <th>501</th>\n",
       "      <td>2055</td>\n",
       "      <td>10</td>\n",
       "      <td>2.017100e+07</td>\n",
       "      <td>6696000.0</td>\n",
       "      <td>3.967080e+06</td>\n",
       "      <td>2.678400e+07</td>\n",
       "      <td>6.157126e+07</td>\n",
       "      <td>4.422746e+07</td>\n",
       "      <td>100000000.0</td>\n",
       "      <td>2.413808e+07</td>\n",
       "      <td>...</td>\n",
       "      <td>6696000.0</td>\n",
       "      <td>75000.0</td>\n",
       "      <td>1339200.0</td>\n",
       "      <td>0.0</td>\n",
       "      <td>0.000000e+00</td>\n",
       "      <td>6696000.0</td>\n",
       "      <td>0.0</td>\n",
       "      <td>0.0</td>\n",
       "      <td>1.347500e+07</td>\n",
       "      <td>2310000.0</td>\n",
       "    </tr>\n",
       "    <tr>\n",
       "      <th>502</th>\n",
       "      <td>2055</td>\n",
       "      <td>11</td>\n",
       "      <td>8.276667e+06</td>\n",
       "      <td>6480000.0</td>\n",
       "      <td>2.592000e+07</td>\n",
       "      <td>2.592000e+07</td>\n",
       "      <td>5.927370e+07</td>\n",
       "      <td>4.310886e+07</td>\n",
       "      <td>100000000.0</td>\n",
       "      <td>3.419667e+07</td>\n",
       "      <td>...</td>\n",
       "      <td>64800000.0</td>\n",
       "      <td>442500.0</td>\n",
       "      <td>1296000.0</td>\n",
       "      <td>0.0</td>\n",
       "      <td>4.055487e+06</td>\n",
       "      <td>64800000.0</td>\n",
       "      <td>0.0</td>\n",
       "      <td>0.0</td>\n",
       "      <td>1.796667e+06</td>\n",
       "      <td>13629000.0</td>\n",
       "    </tr>\n",
       "    <tr>\n",
       "      <th>503</th>\n",
       "      <td>2055</td>\n",
       "      <td>12</td>\n",
       "      <td>2.088967e+07</td>\n",
       "      <td>6696000.0</td>\n",
       "      <td>2.678400e+07</td>\n",
       "      <td>2.678400e+07</td>\n",
       "      <td>5.473363e+07</td>\n",
       "      <td>4.199020e+07</td>\n",
       "      <td>100000000.0</td>\n",
       "      <td>4.767367e+07</td>\n",
       "      <td>...</td>\n",
       "      <td>52117675.0</td>\n",
       "      <td>1931250.0</td>\n",
       "      <td>1339200.0</td>\n",
       "      <td>0.0</td>\n",
       "      <td>4.140604e+07</td>\n",
       "      <td>52117675.0</td>\n",
       "      <td>0.0</td>\n",
       "      <td>0.0</td>\n",
       "      <td>1.419367e+07</td>\n",
       "      <td>59482500.0</td>\n",
       "    </tr>\n",
       "  </tbody>\n",
       "</table>\n",
       "<p>5 rows × 28 columns</p>\n",
       "</div>"
      ],
      "text/plain": [
       "     year  month       x_11_m3    x_12_m3       x_21_m3       x_22_m3  \\\n",
       "499  2055      8  1.487083e+07  6696000.0  0.000000e+00  2.509246e+07   \n",
       "500  2055      9  2.812983e+07  6480000.0  0.000000e+00  1.718324e+07   \n",
       "501  2055     10  2.017100e+07  6696000.0  3.967080e+06  2.678400e+07   \n",
       "502  2055     11  8.276667e+06  6480000.0  2.592000e+07  2.592000e+07   \n",
       "503  2055     12  2.088967e+07  6696000.0  2.678400e+07  2.678400e+07   \n",
       "\n",
       "           d_1_m3        d_2_m3       d_3_m3        s_1_m3  ...        r_m3  \\\n",
       "499  6.428389e+07  4.758413e+07  100000000.0  1.487083e+07  ...   6696000.0   \n",
       "500  6.172126e+07  4.646567e+07  100000000.0  2.812983e+07  ...   6480000.0   \n",
       "501  6.157126e+07  4.422746e+07  100000000.0  2.413808e+07  ...   6696000.0   \n",
       "502  5.927370e+07  4.310886e+07  100000000.0  3.419667e+07  ...  64800000.0   \n",
       "503  5.473363e+07  4.199020e+07  100000000.0  4.767367e+07  ...  52117675.0   \n",
       "\n",
       "        f_1_m3     f_2_m3  groundwater_storage_m3  reservoir_storage_m3  \\\n",
       "499   281250.0  1339200.0                     0.0          0.000000e+00   \n",
       "500        0.0  1296000.0                     0.0          0.000000e+00   \n",
       "501    75000.0  1339200.0                     0.0          0.000000e+00   \n",
       "502   442500.0  1296000.0                     0.0          4.055487e+06   \n",
       "503  1931250.0  1339200.0                     0.0          4.140604e+07   \n",
       "\n",
       "     reservoir_release_m3  reservoir_spillage_m3  gw_discharge_m3  \\\n",
       "499             6696000.0                    0.0              0.0   \n",
       "500             6480000.0                    0.0              0.0   \n",
       "501             6696000.0                    0.0              0.0   \n",
       "502            64800000.0                    0.0              0.0   \n",
       "503            52117675.0                    0.0              0.0   \n",
       "\n",
       "     gw_recharge_m3  precip_runoff_m3  \n",
       "499    8.174833e+06         8662500.0  \n",
       "500    2.164983e+07               0.0  \n",
       "501    1.347500e+07         2310000.0  \n",
       "502    1.796667e+06        13629000.0  \n",
       "503    1.419367e+07        59482500.0  \n",
       "\n",
       "[5 rows x 28 columns]"
      ]
     },
     "execution_count": 10,
     "metadata": {},
     "output_type": "execute_result"
    }
   ],
   "source": [
    "# run the model with defaults and time it\n",
    "t0 = time.time()\n",
    "df_out_base = model.project(df_model_data)\n",
    "t1 = time.time()\n",
    "t_elapse = np.round(t1 - t0, decimals = 2)\n",
    "print(f\"\\nTime elapsed to model completion: {t_elapse} seconds\\n\")\n",
    "\n",
    "# show the \n",
    "df_out_base.tail()"
   ]
  },
  {
   "cell_type": "code",
   "execution_count": 11,
   "metadata": {},
   "outputs": [
    {
     "data": {
      "application/vnd.jupyter.widget-view+json": {
       "model_id": "0964c270602d485d961720b6bcd5045b",
       "version_major": 2,
       "version_minor": 0
      },
      "text/plain": [
       "interactive(children=(Dropdown(description='Select field to visualize', options=('d_1_m3', 'd_2_m3', 'd_3_m3',…"
      ]
     },
     "execution_count": 11,
     "metadata": {},
     "output_type": "execute_result"
    }
   ],
   "source": [
    "# plot the output for the model\n",
    "interactive_df_plot(\n",
    "    df_out_base,\n",
    "    fields_index,\n",
    ")\n"
   ]
  },
  {
   "cell_type": "markdown",
   "metadata": {},
   "source": [
    "# Great, we have a model that looks like it runs. Let's assume it's calibrated and has been validated\n",
    "\n",
    "Of course, these are critical steps. But we don't have time to explore this in depth, however,\n",
    "\n",
    "\n",
    "##  The model is reliable. How can we incorporate uncertainty?\n",
    "\n",
    "This is a small version of a somewhat complex model. It includes a numnber of pieces that sometimes interact in unexpected ways. It incorporates time series data over a relatively long time horizon (30+ years), and these data are not trivial to incorporate uncertainty for, including precipitation and streamflow records. This workbook includes codes that will do this for us, but we can examine how that works.\n",
    "\n",
    "\n",
    "##  One of the key uncertainties is climate change\n",
    "\n",
    "Let's examine some of the climate data we have.\n"
   ]
  },
  {
   "cell_type": "code",
   "execution_count": 12,
   "metadata": {},
   "outputs": [
    {
     "data": {
      "image/png": "[encoded data removed]",
      "text/plain": [
       "<Figure size 1000x1000 with 1 Axes>"
      ]
     },
     "metadata": {},
     "output_type": "display_data"
    }
   ],
   "source": [
    "p = df_climate_deltas_annual[\"delta_p_2055_annual\"]\n",
    "q = df_climate_deltas_annual[\"delta_q_2055_annual\"]\n",
    "\n",
    "fig, ax = plt.subplots(figsize = (10, 10))\n",
    "ax.set_xlabel(\"∆P 2055\")\n",
    "ax.set_ylabel(\"∆Q 2055\")\n",
    "ax.set_title(\"Range of Climate Projections for Lower Rio Imaginario Water Basin\")\n",
    "plt.scatter(p, q, s = 100)\n",
    "\n",
    "plt.show()\n"
   ]
  },
  {
   "cell_type": "markdown",
   "metadata": {},
   "source": [
    "# How do we incorporate uncertainty into trajectories?\n",
    "\n",
    "The uncertainty is incorporated depends on the model time period, metrics, and the decision context. This problem focuses on a long-term planning problem to ensure water availability--it's not so much about planning for intermittant droughts as it as ensuring the stability of service in the long run, while accounting for interrim variability. Our metrics will not focus on point in time estimates (e.g., 2050); they are focused on comparing longer-term averages. This guides how we think about climate affecting the uncertainties in place.\n",
    "\n",
    "There are two key climate uncertainties affecting resource availability in the basin:\n",
    "\n",
    "1. $\\Delta P$: The average change in precipitation, measured from a 2011-2020 baseline to 2051-2060 in %\n",
    "1. $\\Delta Q$: The average change in streamflow in the river, measured from a 2011-2020 baseline to 2051-2060 in %\n",
    "\n",
    "A routine has already been built to demonstrate how these can be adjusted.\n",
    "\n",
    "\n",
    "##  **Note:** Other problems may call for other solutions\n",
    "\n",
    "Synthetic streamflow/precipitation records are often pointed to as a potential part of the solution; those certainly can be, and it's defensible to use them in a problem like this to increase robustness against a range of potential outcomes. Additionally, climate deltas can sometimes include more refined information, such as changes by month; in these cases, synthetic records can be very useful for characterizing potential outcomes.    \n",
    "\n",
    "For now, modifying historically-cyclied records is fine for our purposes. It captures historical variability while allowing us to characterize how longer-term changes might affect the system. This goes back to a key point--time and budget help dictate what you do.\n"
   ]
  },
  {
   "cell_type": "code",
   "execution_count": 13,
   "metadata": {},
   "outputs": [],
   "source": [
    "# get the climate futures and other futures\n",
    "df_futures, df_lhs, df_lhs_untransformed = rrm.build_futures(\n",
    "    df_climate_deltas_annual,\n",
    "    df_model_data\n",
    ")"
   ]
  },
  {
   "cell_type": "markdown",
   "metadata": {},
   "source": [
    "# For fun, we can confirm it's a successful LHC sample\n",
    "\n",
    "A _Latin Hypercube_ is the multi-dimensional generalization of a Latin Square. the Latin Square is divided into $n$ x $n$ rows and columns, and $n$ points are filled in such that each row and each column have exactly one point. Sudoku is a familiar example of a Latin Square. The Latin Hypercube expands this idea to 3 (a cube) and 4+ (hypercubes) dimensions; sampling fills in the rows and columns on a $U(0, 1)$ distribution, so that each dimension has full support while stratifying the sample space. "
   ]
  },
  {
   "cell_type": "code",
   "execution_count": 14,
   "metadata": {},
   "outputs": [
    {
     "data": {
      "image/png": "[encoded data removed]",
      "text/plain": [
       "<Figure size 1200x1200 with 1 Axes>"
      ]
     },
     "metadata": {},
     "output_type": "display_data"
    }
   ],
   "source": [
    "# pull arbitrary, raw LHS samples\n",
    "x = df_lhs_untransformed[\"area_ag_km2\"].to_numpy()\n",
    "y = df_lhs_untransformed[\"demand_municipal_m3p\"].to_numpy()\n",
    "\n",
    "fig, ax = plt.subplots(figsize = (12, 12))\n",
    "\n",
    "ax.scatter(x, y, s = 4)\n",
    "\n",
    "n = len(x)\n",
    "v = np.arange(2)\n",
    "\n",
    "# add grid lines\n",
    "for i in range(n + 1):\n",
    "    \n",
    "    # horizontal\n",
    "    ax.plot(\n",
    "        v, \n",
    "        np.array([i/n, i/n]), \n",
    "        color = \"gray\", \n",
    "        alpha = 0.5, \n",
    "        linewidth = 0.75,\n",
    "    )\n",
    "    \n",
    "    # vertical\n",
    "    ax.plot(\n",
    "        np.array([i/n, i/n]), \n",
    "        v,\n",
    "        color = \"gray\", \n",
    "        alpha = 0.5, \n",
    "        linewidth = 0.75,\n",
    "    )"
   ]
  },
  {
   "cell_type": "code",
   "execution_count": 15,
   "metadata": {},
   "outputs": [],
   "source": [
    "# define a function we can re-use\n",
    "def interactive_df_plot_with_baseline(\n",
    "    df: pd.DataFrame,\n",
    "    fields_ignore: List[str],\n",
    ") -> wdgs.interactive:\n",
    "    \"\"\"\n",
    "    Build an interactive ipywidget time seris plot for df. Will ignore fields specified\n",
    "        in `fields_ignore`. \n",
    "    \"\"\"\n",
    "    \n",
    "    # let's set fields to look at in the outputs\n",
    "    flds_explore = sorted([x for x in df.columns if (x not in fields_ignore)])\n",
    "\n",
    "    # build a quick widget\n",
    "    dropdown = wdgs.Dropdown(\n",
    "        options = flds_explore,\n",
    "        value = flds_explore[0],\n",
    "        description = \"Select field to visualize\",\n",
    "    )\n",
    "    \n",
    "    # slider for futures\n",
    "    vec_futures = df[sa.field_key_future].unique()\n",
    "    slider = wdgs.IntSlider(\n",
    "        vec_futures.min(),\n",
    "        vec_futures.min(),\n",
    "        vec_futures.max(),\n",
    "        1,\n",
    "    )\n",
    "    \n",
    "    # placeholder for other actions\n",
    "    df_plot_base = (\n",
    "        df[\n",
    "            df[sa.field_key_future].isin([0])\n",
    "        ]\n",
    "        .reset_index(drop = True)\n",
    "    )\n",
    "    \n",
    "    # function to allow interaction\n",
    "    def plot_fields(\n",
    "        field: str,\n",
    "        future: int,\n",
    "    ) -> 'plt.plot()':\n",
    "        \"\"\"\n",
    "        Plot output fields from the model run on the df_model_data data frame\n",
    "        \"\"\"\n",
    "        \n",
    "        df_plot_pert = (\n",
    "            df[\n",
    "                df[sa.field_key_future].isin([future])\n",
    "            ]\n",
    "            .reset_index(drop = True)\n",
    "        )\n",
    "        \n",
    "        # get range for the field of interest -- fix the vertical axis\n",
    "        window_exp = 0.1\n",
    "        y0 = df[field].min()\n",
    "        y0 = y0 - window_exp*np.abs(y0)\n",
    "        \n",
    "        y1 = df[field].max()\n",
    "        y1 = y1 + window_exp*np.abs(y1)\n",
    "\n",
    "        # get x/y for each\n",
    "        x_base, y_base = get_idp_xy(df_plot_base, field, )\n",
    "        x_pert, y_pert = get_idp_xy(df_plot_pert, field, )\n",
    "\n",
    "        fig, ax = plt.subplots(figsize = (10, 5))\n",
    "        ax.set_xlabel(\"Date\")\n",
    "        ax.set_ylabel(field)\n",
    "        ax.set_ylim(y0, y1)\n",
    "        \n",
    "        ax.plot(x_base, y_base, color = \"black\", linewidth = 3)\n",
    "        ax.plot(x_pert, y_pert, color = \"dodgerblue\", linewidth = 2)\n",
    "\n",
    "        plt.show()\n",
    "\n",
    "        return None\n",
    "\n",
    "    out = wdgs.interactive(\n",
    "        plot_fields,\n",
    "        field = dropdown,\n",
    "        future = slider,\n",
    "    )\n",
    "    \n",
    "    return out"
   ]
  },
  {
   "cell_type": "code",
   "execution_count": 16,
   "metadata": {},
   "outputs": [
    {
     "data": {
      "application/vnd.jupyter.widget-view+json": {
       "model_id": "41fc587503a04184b6dc71a1a88462df",
       "version_major": 2,
       "version_minor": 0
      },
      "text/plain": [
       "interactive(children=(Dropdown(description='Select field to visualize', options=('area_ag_km2', 'demand_agricu…"
      ]
     },
     "execution_count": 16,
     "metadata": {},
     "output_type": "execute_result"
    }
   ],
   "source": [
    "# explore what the uncertainties look like -- look at future 75\n",
    "interactive_df_plot_with_baseline(\n",
    "    df_futures,\n",
    "    fields_index\n",
    ")"
   ]
  },
  {
   "cell_type": "code",
   "execution_count": 17,
   "metadata": {},
   "outputs": [
    {
     "data": {
      "application/vnd.jupyter.widget-view+json": {
       "model_id": "b5df820abe6d42e08764978f42833479",
       "version_major": 2,
       "version_minor": 0
      },
      "text/plain": [
       "interactive(children=(Dropdown(description='Select field to visualize', options=('area_ag_km2', 'demand_agricu…"
      ]
     },
     "execution_count": 17,
     "metadata": {},
     "output_type": "execute_result"
    }
   ],
   "source": [
    "interactive_df_plot_with_baseline(\n",
    "    df_futures,\n",
    "    fields_index\n",
    ")"
   ]
  },
  {
   "cell_type": "markdown",
   "metadata": {},
   "source": [
    "# Once futures are generated, we can run and identify vulnerabilities\n",
    "\n",
    "If we have a set of strategies (collection of Ls) that we're evaluating, we could run those as well. This next step is context dependent. For example, in decarbonization, a vulnerability analysis of perturbed BAU scenarios (assuming we continue to emit as we are today, e.g.) is likely to be of low informational value without additional intervention. "
   ]
  },
  {
   "cell_type": "code",
   "execution_count": null,
   "metadata": {},
   "outputs": [],
   "source": []
  },
  {
   "cell_type": "code",
   "execution_count": 18,
   "metadata": {
    "tags": []
   },
   "outputs": [
    {
     "name": "stdout",
     "output_type": "stream",
     "text": [
      "Starting pool.async()...\n"
     ]
    },
    {
     "name": "stderr",
     "output_type": "stream",
     "text": [
      "/Users/jsyme/anaconda3/envs/amber_is_your_energy/lib/python3.11/site-packages/scipy/__init__.py:155: UserWarning: A NumPy version >=1.18.5 and <1.26.0 is required for this version of SciPy (detected version 1.26.2\n",
      "  warnings.warn(f\"A NumPy version >={np_minversion} and <{np_maxversion}\"\n",
      "/Users/jsyme/anaconda3/envs/amber_is_your_energy/lib/python3.11/site-packages/scipy/__init__.py:155: UserWarning: A NumPy version >=1.18.5 and <1.26.0 is required for this version of SciPy (detected version 1.26.2\n",
      "  warnings.warn(f\"A NumPy version >={np_minversion} and <{np_maxversion}\"\n",
      "/Users/jsyme/anaconda3/envs/amber_is_your_energy/lib/python3.11/site-packages/scipy/__init__.py:155: UserWarning: A NumPy version >=1.18.5 and <1.26.0 is required for this version of SciPy (detected version 1.26.2\n",
      "  warnings.warn(f\"A NumPy version >={np_minversion} and <{np_maxversion}\"\n",
      "/Users/jsyme/anaconda3/envs/amber_is_your_energy/lib/python3.11/site-packages/scipy/__init__.py:155: UserWarning: A NumPy version >=1.18.5 and <1.26.0 is required for this version of SciPy (detected version 1.26.2\n",
      "  warnings.warn(f\"A NumPy version >={np_minversion} and <{np_maxversion}\"\n",
      "/Users/jsyme/anaconda3/envs/amber_is_your_energy/lib/python3.11/site-packages/scipy/__init__.py:155: UserWarning: A NumPy version >=1.18.5 and <1.26.0 is required for this version of SciPy (detected version 1.26.2\n",
      "  warnings.warn(f\"A NumPy version >={np_minversion} and <{np_maxversion}\"\n",
      "/Users/jsyme/anaconda3/envs/amber_is_your_energy/lib/python3.11/site-packages/scipy/__init__.py:155: UserWarning: A NumPy version >=1.18.5 and <1.26.0 is required for this version of SciPy (detected version 1.26.2\n",
      "  warnings.warn(f\"A NumPy version >={np_minversion} and <{np_maxversion}\"\n",
      "/Users/jsyme/anaconda3/envs/amber_is_your_energy/lib/python3.11/site-packages/scipy/__init__.py:155: UserWarning: A NumPy version >=1.18.5 and <1.26.0 is required for this version of SciPy (detected version 1.26.2\n",
      "  warnings.warn(f\"A NumPy version >={np_minversion} and <{np_maxversion}\"\n",
      "/Users/jsyme/anaconda3/envs/amber_is_your_energy/lib/python3.11/site-packages/scipy/__init__.py:155: UserWarning: A NumPy version >=1.18.5 and <1.26.0 is required for this version of SciPy (detected version 1.26.2\n",
      "  warnings.warn(f\"A NumPy version >={np_minversion} and <{np_maxversion}\"\n",
      "/Users/jsyme/anaconda3/envs/amber_is_your_energy/lib/python3.11/site-packages/scipy/__init__.py:155: UserWarning: A NumPy version >=1.18.5 and <1.26.0 is required for this version of SciPy (detected version 1.26.2\n",
      "  warnings.warn(f\"A NumPy version >={np_minversion} and <{np_maxversion}\"\n",
      "/Users/jsyme/anaconda3/envs/amber_is_your_energy/lib/python3.11/site-packages/scipy/__init__.py:155: UserWarning: A NumPy version >=1.18.5 and <1.26.0 is required for this version of SciPy (detected version 1.26.2\n",
      "  warnings.warn(f\"A NumPy version >={np_minversion} and <{np_maxversion}\"\n",
      "/Users/jsyme/anaconda3/envs/amber_is_your_energy/lib/python3.11/site-packages/scipy/__init__.py:155: UserWarning: A NumPy version >=1.18.5 and <1.26.0 is required for this version of SciPy (detected version 1.26.2\n",
      "  warnings.warn(f\"A NumPy version >={np_minversion} and <{np_maxversion}\"\n",
      "/Users/jsyme/anaconda3/envs/amber_is_your_energy/lib/python3.11/site-packages/scipy/__init__.py:155: UserWarning: A NumPy version >=1.18.5 and <1.26.0 is required for this version of SciPy (detected version 1.26.2\n",
      "  warnings.warn(f\"A NumPy version >={np_minversion} and <{np_maxversion}\"\n"
     ]
    },
    {
     "name": "stdout",
     "output_type": "stream",
     "text": [
      "Pool.async() done in 27.17 seconds.\n",
      "\n"
     ]
    }
   ],
   "source": [
    "\n",
    "#\n",
    "#   NOTE: this code is taken directly from run_ri_model.py;\n",
    "# \n",
    "\n",
    "# built the attribute table and get primary ids to run--this is the primary scenario key, the index we use to facilitate paralleliation\n",
    "df_attribute_primary = rrm.build_primary_attribute(df_lhs, df_attr_strategy, )\n",
    "all_primaries = list(\n",
    "    df_attribute_primary[\n",
    "        df_attribute_primary[sa.field_key_strategy].isin(sa.strats_run)\n",
    "    ][\n",
    "        sa.field_key_primary\n",
    "    ]\n",
    ")\n",
    "\n",
    "# lets only run those associated with our baseline strategy\n",
    "all_primaries_run = list(\n",
    "    df_attribute_primary[\n",
    "        df_attribute_primary[sa.field_key_strategy].isin([0])\n",
    "    ][\n",
    "        sa.field_key_primary\n",
    "    ]\n",
    ")\n",
    "\n",
    "\n",
    "##  RUN MODEL IN PARALLEL USING DATA\n",
    "\n",
    "\n",
    "# initialize callback function - note vec_df_out_ri is specified OUTSIDE of main()\n",
    "vec_df_out_ri = []\n",
    "def _get_result(result):\n",
    "    global vec_df_out_ri\n",
    "    vec_df_out_ri.append(result)\n",
    "\n",
    "\n",
    "# start the MP pool for asynchronous parallelization\n",
    "t0_par_async = time.time()\n",
    "\n",
    "print(\"Starting pool.async()...\")\n",
    "\n",
    "\n",
    "# start the pool\n",
    "pool = mp.Pool(int(mp.cpu_count()))\n",
    "\n",
    "for id_primary in all_primaries_run:\n",
    "\n",
    "    # get data for this primary key\n",
    "    df_input_data = rrm.get_model_data_from_primary_key(\n",
    "        id_primary,\n",
    "        df_attribute_primary,\n",
    "        df_futures,\n",
    "        df_strategies,\n",
    "        sa.field_key_primary,\n",
    "        sa.field_key_future,\n",
    "        sa.field_key_strategy\n",
    "    )\n",
    "    \n",
    "    # apply to pool\n",
    "    pool.apply_async(\n",
    "        model.project,\n",
    "        args = (\n",
    "            df_input_data,\n",
    "        ),\n",
    "        kwds = {\n",
    "            \"id_primary\": id_primary,\n",
    "        },\n",
    "        callback = _get_result,\n",
    "    )\n",
    "\n",
    "pool.close()\n",
    "pool.join()\n",
    "\n",
    "t1_par_async = time.time()\n",
    "t_delta = np.round(t1_par_async - t0_par_async, 2)\n",
    "print(f\"Pool.async() done in {t_delta} seconds.\\n\")\n",
    "\n",
    "\n",
    "\n",
    "##  FINISH UP\n",
    "    \n",
    "# collect output\n",
    "df_metrics_base, df_all_output_base = rrm.get_metric_df_out(\n",
    "    vec_df_out_ri,\n",
    "    save_complete = True,\n",
    ")\n",
    "\n",
    "\n",
    "\n"
   ]
  },
  {
   "cell_type": "code",
   "execution_count": 19,
   "metadata": {},
   "outputs": [
    {
     "data": {
      "text/plain": [
       "array([[<AxesSubplot: title={'center': 'mean_reservoir_storage_last_ten_years_m3'}>,\n",
       "        <AxesSubplot: title={'center': 'mean_groundwater_storage_last_ten_years_m3'}>],\n",
       "       [<AxesSubplot: title={'center': 'proportion_unacceptable_unmet_demand'}>,\n",
       "        <AxesSubplot: >]], dtype=object)"
      ]
     },
     "execution_count": 19,
     "metadata": {},
     "output_type": "execute_result"
    },
    {
     "data": {
      "image/png": "[encoded data removed]",
      "text/plain": [
       "<Figure size 1800x1800 with 4 Axes>"
      ]
     },
     "metadata": {},
     "output_type": "display_data"
    }
   ],
   "source": [
    "fig, ax = plt.subplots(figsize = (18, 18))\n",
    "(\n",
    "    df_metrics_base\n",
    "    .drop(columns = [sa.field_key_primary])\n",
    "    .hist(ax = ax)\n",
    ")"
   ]
  },
  {
   "cell_type": "code",
   "execution_count": null,
   "metadata": {},
   "outputs": [],
   "source": [
    "fig, ax = plt.subplots(figsize = (18, 18))\n",
    "df_metrics_base.hist(ax = ax)"
   ]
  },
  {
   "cell_type": "code",
   "execution_count": 48,
   "metadata": {},
   "outputs": [],
   "source": [
    "df_summary = pd.merge(\n",
    "    df_attribute_primary,\n",
    "    df_metrics_base,\n",
    "    how = \"inner\"\n",
    ")\n",
    "\n",
    "df_summary = pd.merge(\n",
    "    df_summary,\n",
    "    df_lhs,\n",
    "    how = \"inner\"\n",
    ")\n",
    "\n"
   ]
  },
  {
   "cell_type": "code",
   "execution_count": 60,
   "metadata": {},
   "outputs": [
    {
     "name": "stdout",
     "output_type": "stream",
     "text": [
      "area_ag_km2\n",
      "demand_agricultural_m3km2\n",
      "demand_municipal_m3p\n",
      "flow_m3s\n",
      "mean_groundwater_storage_last_ten_years_m3\n",
      "mean_reservoir_storage_last_ten_years_m3\n",
      "population\n",
      "precipitation_mm\n",
      "proportion_unacceptable_unmet_demand\n"
     ]
    }
   ],
   "source": [
    "for k in sorted(df_summary.columns):\n",
    "    if \"_id\" in k:\n",
    "        continue\n",
    "        \n",
    "    print(k)"
   ]
  },
  {
   "cell_type": "code",
   "execution_count": 63,
   "metadata": {},
   "outputs": [
    {
     "data": {
      "text/plain": [
       "<AxesSubplot: xlabel='population', ylabel='proportion_unacceptable_unmet_demand'>"
      ]
     },
     "execution_count": 63,
     "metadata": {},
     "output_type": "execute_result"
    },
    {
     "data": {
      "image/png": "[encoded data removed]",
      "text/plain": [
       "<Figure size 1200x1000 with 1 Axes>"
      ]
     },
     "metadata": {},
     "output_type": "display_data"
    }
   ],
   "source": [
    "x = \"population\"\n",
    "y = \"proportion_unacceptable_unmet_demand\"\n",
    "\n",
    "\n",
    "fig, ax = plt.subplots(figsize = (12, 10))\n",
    "(\n",
    "    df_summary[[x, y]]\n",
    "    .plot(x = x, y = y, kind = \"scatter\", ax = ax)\n",
    ")"
   ]
  },
  {
   "cell_type": "code",
   "execution_count": 53,
   "metadata": {},
   "outputs": [
    {
     "data": {
      "text/plain": [
       "\u001b[0;31mSignature:\u001b[0m      \u001b[0mdf_summary\u001b[0m\u001b[0;34m.\u001b[0m\u001b[0mplot\u001b[0m\u001b[0;34m(\u001b[0m\u001b[0;34m*\u001b[0m\u001b[0margs\u001b[0m\u001b[0;34m,\u001b[0m \u001b[0;34m**\u001b[0m\u001b[0mkwargs\u001b[0m\u001b[0;34m)\u001b[0m\u001b[0;34m\u001b[0m\u001b[0;34m\u001b[0m\u001b[0m\n",
       "\u001b[0;31mType:\u001b[0m           PlotAccessor\n",
       "\u001b[0;31mString form:\u001b[0m    <pandas.plotting._core.PlotAccessor object at 0x19abcd550>\n",
       "\u001b[0;31mFile:\u001b[0m           ~/anaconda3/envs/amber_is_your_energy/lib/python3.11/site-packages/pandas/plotting/_core.py\n",
       "\u001b[0;31mDocstring:\u001b[0m     \n",
       "Make plots of Series or DataFrame.\n",
       "\n",
       "Uses the backend specified by the\n",
       "option ``plotting.backend``. By default, matplotlib is used.\n",
       "\n",
       "Parameters\n",
       "----------\n",
       "data : Series or DataFrame\n",
       "    The object for which the method is called.\n",
       "x : label or position, default None\n",
       "    Only used if data is a DataFrame.\n",
       "y : label, position or list of label, positions, default None\n",
       "    Allows plotting of one column versus another. Only used if data is a\n",
       "    DataFrame.\n",
       "kind : str\n",
       "    The kind of plot to produce:\n",
       "\n",
       "    - 'line' : line plot (default)\n",
       "    - 'bar' : vertical bar plot\n",
       "    - 'barh' : horizontal bar plot\n",
       "    - 'hist' : histogram\n",
       "    - 'box' : boxplot\n",
       "    - 'kde' : Kernel Density Estimation plot\n",
       "    - 'density' : same as 'kde'\n",
       "    - 'area' : area plot\n",
       "    - 'pie' : pie plot\n",
       "    - 'scatter' : scatter plot (DataFrame only)\n",
       "    - 'hexbin' : hexbin plot (DataFrame only)\n",
       "ax : matplotlib axes object, default None\n",
       "    An axes of the current figure.\n",
       "subplots : bool or sequence of iterables, default False\n",
       "    Whether to group columns into subplots:\n",
       "\n",
       "    - ``False`` : No subplots will be used\n",
       "    - ``True`` : Make separate subplots for each column.\n",
       "    - sequence of iterables of column labels: Create a subplot for each\n",
       "      group of columns. For example `[('a', 'c'), ('b', 'd')]` will\n",
       "      create 2 subplots: one with columns 'a' and 'c', and one\n",
       "      with columns 'b' and 'd'. Remaining columns that aren't specified\n",
       "      will be plotted in additional subplots (one per column).\n",
       "\n",
       "      .. versionadded:: 1.5.0\n",
       "\n",
       "sharex : bool, default True if ax is None else False\n",
       "    In case ``subplots=True``, share x axis and set some x axis labels\n",
       "    to invisible; defaults to True if ax is None otherwise False if\n",
       "    an ax is passed in; Be aware, that passing in both an ax and\n",
       "    ``sharex=True`` will alter all x axis labels for all axis in a figure.\n",
       "sharey : bool, default False\n",
       "    In case ``subplots=True``, share y axis and set some y axis labels to invisible.\n",
       "layout : tuple, optional\n",
       "    (rows, columns) for the layout of subplots.\n",
       "figsize : a tuple (width, height) in inches\n",
       "    Size of a figure object.\n",
       "use_index : bool, default True\n",
       "    Use index as ticks for x axis.\n",
       "title : str or list\n",
       "    Title to use for the plot. If a string is passed, print the string\n",
       "    at the top of the figure. If a list is passed and `subplots` is\n",
       "    True, print each item in the list above the corresponding subplot.\n",
       "grid : bool, default None (matlab style default)\n",
       "    Axis grid lines.\n",
       "legend : bool or {'reverse'}\n",
       "    Place legend on axis subplots.\n",
       "style : list or dict\n",
       "    The matplotlib line style per column.\n",
       "logx : bool or 'sym', default False\n",
       "    Use log scaling or symlog scaling on x axis.\n",
       "\n",
       "logy : bool or 'sym' default False\n",
       "    Use log scaling or symlog scaling on y axis.\n",
       "\n",
       "loglog : bool or 'sym', default False\n",
       "    Use log scaling or symlog scaling on both x and y axes.\n",
       "\n",
       "xticks : sequence\n",
       "    Values to use for the xticks.\n",
       "yticks : sequence\n",
       "    Values to use for the yticks.\n",
       "xlim : 2-tuple/list\n",
       "    Set the x limits of the current axes.\n",
       "ylim : 2-tuple/list\n",
       "    Set the y limits of the current axes.\n",
       "xlabel : label, optional\n",
       "    Name to use for the xlabel on x-axis. Default uses index name as xlabel, or the\n",
       "    x-column name for planar plots.\n",
       "\n",
       "    .. versionchanged:: 2.0.0\n",
       "\n",
       "        Now applicable to histograms.\n",
       "\n",
       "ylabel : label, optional\n",
       "    Name to use for the ylabel on y-axis. Default will show no ylabel, or the\n",
       "    y-column name for planar plots.\n",
       "\n",
       "    .. versionchanged:: 2.0.0\n",
       "\n",
       "        Now applicable to histograms.\n",
       "\n",
       "rot : float, default None\n",
       "    Rotation for ticks (xticks for vertical, yticks for horizontal\n",
       "    plots).\n",
       "fontsize : float, default None\n",
       "    Font size for xticks and yticks.\n",
       "colormap : str or matplotlib colormap object, default None\n",
       "    Colormap to select colors from. If string, load colormap with that\n",
       "    name from matplotlib.\n",
       "colorbar : bool, optional\n",
       "    If True, plot colorbar (only relevant for 'scatter' and 'hexbin'\n",
       "    plots).\n",
       "position : float\n",
       "    Specify relative alignments for bar plot layout.\n",
       "    From 0 (left/bottom-end) to 1 (right/top-end). Default is 0.5\n",
       "    (center).\n",
       "table : bool, Series or DataFrame, default False\n",
       "    If True, draw a table using the data in the DataFrame and the data\n",
       "    will be transposed to meet matplotlib's default layout.\n",
       "    If a Series or DataFrame is passed, use passed data to draw a\n",
       "    table.\n",
       "yerr : DataFrame, Series, array-like, dict and str\n",
       "    See :ref:`Plotting with Error Bars <visualization.errorbars>` for\n",
       "    detail.\n",
       "xerr : DataFrame, Series, array-like, dict and str\n",
       "    Equivalent to yerr.\n",
       "stacked : bool, default False in line and bar plots, and True in area plot\n",
       "    If True, create stacked plot.\n",
       "secondary_y : bool or sequence, default False\n",
       "    Whether to plot on the secondary y-axis if a list/tuple, which\n",
       "    columns to plot on secondary y-axis.\n",
       "mark_right : bool, default True\n",
       "    When using a secondary_y axis, automatically mark the column\n",
       "    labels with \"(right)\" in the legend.\n",
       "include_bool : bool, default is False\n",
       "    If True, boolean values can be plotted.\n",
       "backend : str, default None\n",
       "    Backend to use instead of the backend specified in the option\n",
       "    ``plotting.backend``. For instance, 'matplotlib'. Alternatively, to\n",
       "    specify the ``plotting.backend`` for the whole session, set\n",
       "    ``pd.options.plotting.backend``.\n",
       "**kwargs\n",
       "    Options to pass to matplotlib plotting method.\n",
       "\n",
       "Returns\n",
       "-------\n",
       ":class:`matplotlib.axes.Axes` or numpy.ndarray of them\n",
       "    If the backend is not the default matplotlib one, the return value\n",
       "    will be the object returned by the backend.\n",
       "\n",
       "Notes\n",
       "-----\n",
       "- See matplotlib documentation online for more on this subject\n",
       "- If `kind` = 'bar' or 'barh', you can specify relative alignments\n",
       "  for bar plot layout by `position` keyword.\n",
       "  From 0 (left/bottom-end) to 1 (right/top-end). Default is 0.5\n",
       "  (center)\n",
       "\n",
       "Examples\n",
       "--------\n",
       "For Series:\n",
       "\n",
       ".. plot::\n",
       "    :context: close-figs\n",
       "\n",
       "    >>> ser = pd.Series([1, 2, 3, 3])\n",
       "    >>> plot = ser.plot(kind='hist', title=\"My plot\")\n",
       "\n",
       "For DataFrame:\n",
       "\n",
       ".. plot::\n",
       "    :context: close-figs\n",
       "\n",
       "    >>> df = pd.DataFrame({'length': [1.5, 0.5, 1.2, 0.9, 3],\n",
       "    ...                   'width': [0.7, 0.2, 0.15, 0.2, 1.1]},\n",
       "    ...                   index=['pig', 'rabbit', 'duck', 'chicken', 'horse'])\n",
       "    >>> plot = df.plot(title=\"DataFrame Plot\")\n",
       "\n",
       "For SeriesGroupBy:\n",
       "\n",
       ".. plot::\n",
       "    :context: close-figs\n",
       "\n",
       "    >>> lst = [-1, -2, -3, 1, 2, 3]\n",
       "    >>> ser = pd.Series([1, 2, 2, 4, 6, 6], index=lst)\n",
       "    >>> plot = ser.groupby(lambda x: x > 0).plot(title=\"SeriesGroupBy Plot\")\n",
       "\n",
       "For DataFrameGroupBy:\n",
       "\n",
       ".. plot::\n",
       "    :context: close-figs\n",
       "\n",
       "    >>> df = pd.DataFrame({\"col1\" : [1, 2, 3, 4],\n",
       "    ...                   \"col2\" : [\"A\", \"B\", \"A\", \"B\"]})\n",
       "    >>> plot = df.groupby(\"col2\").plot(kind=\"bar\", title=\"DataFrameGroupBy Plot\")\n",
       "\u001b[0;31mCall docstring:\u001b[0m\n",
       "Make plots of Series or DataFrame.\n",
       "\n",
       "Uses the backend specified by the\n",
       "option ``plotting.backend``. By default, matplotlib is used.\n",
       "\n",
       "Parameters\n",
       "----------\n",
       "data : Series or DataFrame\n",
       "    The object for which the method is called.\n",
       "x : label or position, default None\n",
       "    Only used if data is a DataFrame.\n",
       "y : label, position or list of label, positions, default None\n",
       "    Allows plotting of one column versus another. Only used if data is a\n",
       "    DataFrame.\n",
       "kind : str\n",
       "    The kind of plot to produce:\n",
       "\n",
       "    - 'line' : line plot (default)\n",
       "    - 'bar' : vertical bar plot\n",
       "    - 'barh' : horizontal bar plot\n",
       "    - 'hist' : histogram\n",
       "    - 'box' : boxplot\n",
       "    - 'kde' : Kernel Density Estimation plot\n",
       "    - 'density' : same as 'kde'\n",
       "    - 'area' : area plot\n",
       "    - 'pie' : pie plot\n",
       "    - 'scatter' : scatter plot (DataFrame only)\n",
       "    - 'hexbin' : hexbin plot (DataFrame only)\n",
       "ax : matplotlib axes object, default None\n",
       "    An axes of the current figure.\n",
       "subplots : bool or sequence of iterables, default False\n",
       "    Whether to group columns into subplots:\n",
       "\n",
       "    - ``False`` : No subplots will be used\n",
       "    - ``True`` : Make separate subplots for each column.\n",
       "    - sequence of iterables of column labels: Create a subplot for each\n",
       "      group of columns. For example `[('a', 'c'), ('b', 'd')]` will\n",
       "      create 2 subplots: one with columns 'a' and 'c', and one\n",
       "      with columns 'b' and 'd'. Remaining columns that aren't specified\n",
       "      will be plotted in additional subplots (one per column).\n",
       "\n",
       "      .. versionadded:: 1.5.0\n",
       "\n",
       "sharex : bool, default True if ax is None else False\n",
       "    In case ``subplots=True``, share x axis and set some x axis labels\n",
       "    to invisible; defaults to True if ax is None otherwise False if\n",
       "    an ax is passed in; Be aware, that passing in both an ax and\n",
       "    ``sharex=True`` will alter all x axis labels for all axis in a figure.\n",
       "sharey : bool, default False\n",
       "    In case ``subplots=True``, share y axis and set some y axis labels to invisible.\n",
       "layout : tuple, optional\n",
       "    (rows, columns) for the layout of subplots.\n",
       "figsize : a tuple (width, height) in inches\n",
       "    Size of a figure object.\n",
       "use_index : bool, default True\n",
       "    Use index as ticks for x axis.\n",
       "title : str or list\n",
       "    Title to use for the plot. If a string is passed, print the string\n",
       "    at the top of the figure. If a list is passed and `subplots` is\n",
       "    True, print each item in the list above the corresponding subplot.\n",
       "grid : bool, default None (matlab style default)\n",
       "    Axis grid lines.\n",
       "legend : bool or {'reverse'}\n",
       "    Place legend on axis subplots.\n",
       "style : list or dict\n",
       "    The matplotlib line style per column.\n",
       "logx : bool or 'sym', default False\n",
       "    Use log scaling or symlog scaling on x axis.\n",
       "\n",
       "logy : bool or 'sym' default False\n",
       "    Use log scaling or symlog scaling on y axis.\n",
       "\n",
       "loglog : bool or 'sym', default False\n",
       "    Use log scaling or symlog scaling on both x and y axes.\n",
       "\n",
       "xticks : sequence\n",
       "    Values to use for the xticks.\n",
       "yticks : sequence\n",
       "    Values to use for the yticks.\n",
       "xlim : 2-tuple/list\n",
       "    Set the x limits of the current axes.\n",
       "ylim : 2-tuple/list\n",
       "    Set the y limits of the current axes.\n",
       "xlabel : label, optional\n",
       "    Name to use for the xlabel on x-axis. Default uses index name as xlabel, or the\n",
       "    x-column name for planar plots.\n",
       "\n",
       "    .. versionchanged:: 2.0.0\n",
       "\n",
       "        Now applicable to histograms.\n",
       "\n",
       "ylabel : label, optional\n",
       "    Name to use for the ylabel on y-axis. Default will show no ylabel, or the\n",
       "    y-column name for planar plots.\n",
       "\n",
       "    .. versionchanged:: 2.0.0\n",
       "\n",
       "        Now applicable to histograms.\n",
       "\n",
       "rot : float, default None\n",
       "    Rotation for ticks (xticks for vertical, yticks for horizontal\n",
       "    plots).\n",
       "fontsize : float, default None\n",
       "    Font size for xticks and yticks.\n",
       "colormap : str or matplotlib colormap object, default None\n",
       "    Colormap to select colors from. If string, load colormap with that\n",
       "    name from matplotlib.\n",
       "colorbar : bool, optional\n",
       "    If True, plot colorbar (only relevant for 'scatter' and 'hexbin'\n",
       "    plots).\n",
       "position : float\n",
       "    Specify relative alignments for bar plot layout.\n",
       "    From 0 (left/bottom-end) to 1 (right/top-end). Default is 0.5\n",
       "    (center).\n",
       "table : bool, Series or DataFrame, default False\n",
       "    If True, draw a table using the data in the DataFrame and the data\n",
       "    will be transposed to meet matplotlib's default layout.\n",
       "    If a Series or DataFrame is passed, use passed data to draw a\n",
       "    table.\n",
       "yerr : DataFrame, Series, array-like, dict and str\n",
       "    See :ref:`Plotting with Error Bars <visualization.errorbars>` for\n",
       "    detail.\n",
       "xerr : DataFrame, Series, array-like, dict and str\n",
       "    Equivalent to yerr.\n",
       "stacked : bool, default False in line and bar plots, and True in area plot\n",
       "    If True, create stacked plot.\n",
       "secondary_y : bool or sequence, default False\n",
       "    Whether to plot on the secondary y-axis if a list/tuple, which\n",
       "    columns to plot on secondary y-axis.\n",
       "mark_right : bool, default True\n",
       "    When using a secondary_y axis, automatically mark the column\n",
       "    labels with \"(right)\" in the legend.\n",
       "include_bool : bool, default is False\n",
       "    If True, boolean values can be plotted.\n",
       "backend : str, default None\n",
       "    Backend to use instead of the backend specified in the option\n",
       "    ``plotting.backend``. For instance, 'matplotlib'. Alternatively, to\n",
       "    specify the ``plotting.backend`` for the whole session, set\n",
       "    ``pd.options.plotting.backend``.\n",
       "**kwargs\n",
       "    Options to pass to matplotlib plotting method.\n",
       "\n",
       "Returns\n",
       "-------\n",
       ":class:`matplotlib.axes.Axes` or numpy.ndarray of them\n",
       "    If the backend is not the default matplotlib one, the return value\n",
       "    will be the object returned by the backend.\n",
       "\n",
       "Notes\n",
       "-----\n",
       "- See matplotlib documentation online for more on this subject\n",
       "- If `kind` = 'bar' or 'barh', you can specify relative alignments\n",
       "  for bar plot layout by `position` keyword.\n",
       "  From 0 (left/bottom-end) to 1 (right/top-end). Default is 0.5\n",
       "  (center)\n",
       "\n",
       "Examples\n",
       "--------\n",
       "For Series:\n",
       "\n",
       ".. plot::\n",
       "    :context: close-figs\n",
       "\n",
       "    >>> ser = pd.Series([1, 2, 3, 3])\n",
       "    >>> plot = ser.plot(kind='hist', title=\"My plot\")\n",
       "\n",
       "For DataFrame:\n",
       "\n",
       ".. plot::\n",
       "    :context: close-figs\n",
       "\n",
       "    >>> df = pd.DataFrame({'length': [1.5, 0.5, 1.2, 0.9, 3],\n",
       "    ...                   'width': [0.7, 0.2, 0.15, 0.2, 1.1]},\n",
       "    ...                   index=['pig', 'rabbit', 'duck', 'chicken', 'horse'])\n",
       "    >>> plot = df.plot(title=\"DataFrame Plot\")\n",
       "\n",
       "For SeriesGroupBy:\n",
       "\n",
       ".. plot::\n",
       "    :context: close-figs\n",
       "\n",
       "    >>> lst = [-1, -2, -3, 1, 2, 3]\n",
       "    >>> ser = pd.Series([1, 2, 2, 4, 6, 6], index=lst)\n",
       "    >>> plot = ser.groupby(lambda x: x > 0).plot(title=\"SeriesGroupBy Plot\")\n",
       "\n",
       "For DataFrameGroupBy:\n",
       "\n",
       ".. plot::\n",
       "    :context: close-figs\n",
       "\n",
       "    >>> df = pd.DataFrame({\"col1\" : [1, 2, 3, 4],\n",
       "    ...                   \"col2\" : [\"A\", \"B\", \"A\", \"B\"]})\n",
       "    >>> plot = df.groupby(\"col2\").plot(kind=\"bar\", title=\"DataFrameGroupBy Plot\")\n"
      ]
     },
     "metadata": {},
     "output_type": "display_data"
    }
   ],
   "source": [
    "?df_summary.plot"
   ]
  },
  {
   "cell_type": "code",
   "execution_count": null,
   "metadata": {},
   "outputs": [],
   "source": []
  }
 ],
 "metadata": {
  "colab": {
   "provenance": []
  },
  "kernelspec": {
   "display_name": "Python 3 (ipykernel)",
   "language": "python",
   "name": "python3"
  },
  "language_info": {
   "codemirror_mode": {
    "name": "ipython",
    "version": 3
   },
   "file_extension": ".py",
   "mimetype": "text/x-python",
   "name": "python",
   "nbconvert_exporter": "python",
   "pygments_lexer": "ipython3",
   "version": "3.11.0"
  }
 },
 "nbformat": 4,
 "nbformat_minor": 4
}
